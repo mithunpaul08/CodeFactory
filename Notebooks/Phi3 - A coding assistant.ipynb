{
 "cells": [
  {
   "cell_type": "markdown",
   "metadata": {},
   "source": [
    "## Install Ollama\n",
    "\n",
    "Navigate to https://ollama.com/download and install the appropriate version. You can also use the docker image to run Ollama as a container."
   ]
  },
  {
   "cell_type": "code",
   "execution_count": 2,
   "metadata": {},
   "outputs": [
    {
     "name": "stdout",
     "output_type": "stream",
     "text": [
      "Error: listen tcp 127.0.0.1:11434: bind: address already in use\n"
     ]
    }
   ],
   "source": [
    "# Run ollama on a separate shell to be able to call it in the rest of the notebook\n",
    "\n",
    "!ollama serve"
   ]
  },
  {
   "cell_type": "markdown",
   "metadata": {},
   "source": [
    "## Use Ollama with Python"
   ]
  },
  {
   "cell_type": "markdown",
   "metadata": {},
   "source": [
    "Install the python client for `ollama`"
   ]
  },
  {
   "cell_type": "code",
   "execution_count": 3,
   "metadata": {},
   "outputs": [
    {
     "name": "stdout",
     "output_type": "stream",
     "text": [
      "Collecting ollama\n",
      "  Downloading ollama-0.3.3-py3-none-any.whl.metadata (3.8 kB)\n",
      "Requirement already satisfied: httpx<0.28.0,>=0.27.0 in /Users/enoriega/github/Generative-AI/.conda/lib/python3.11/site-packages (from ollama) (0.27.2)\n",
      "Requirement already satisfied: anyio in /Users/enoriega/github/Generative-AI/.conda/lib/python3.11/site-packages (from httpx<0.28.0,>=0.27.0->ollama) (4.4.0)\n",
      "Requirement already satisfied: certifi in /Users/enoriega/github/Generative-AI/.conda/lib/python3.11/site-packages (from httpx<0.28.0,>=0.27.0->ollama) (2024.8.30)\n",
      "Requirement already satisfied: httpcore==1.* in /Users/enoriega/github/Generative-AI/.conda/lib/python3.11/site-packages (from httpx<0.28.0,>=0.27.0->ollama) (1.0.5)\n",
      "Requirement already satisfied: idna in /Users/enoriega/github/Generative-AI/.conda/lib/python3.11/site-packages (from httpx<0.28.0,>=0.27.0->ollama) (3.8)\n",
      "Requirement already satisfied: sniffio in /Users/enoriega/github/Generative-AI/.conda/lib/python3.11/site-packages (from httpx<0.28.0,>=0.27.0->ollama) (1.3.1)\n",
      "Requirement already satisfied: h11<0.15,>=0.13 in /Users/enoriega/github/Generative-AI/.conda/lib/python3.11/site-packages (from httpcore==1.*->httpx<0.28.0,>=0.27.0->ollama) (0.14.0)\n",
      "Downloading ollama-0.3.3-py3-none-any.whl (10 kB)\n",
      "Installing collected packages: ollama\n",
      "Successfully installed ollama-0.3.3\n",
      "Note: you may need to restart the kernel to use updated packages.\n"
     ]
    }
   ],
   "source": [
    "%pip install ollama"
   ]
  },
  {
   "cell_type": "markdown",
   "metadata": {},
   "source": [
    "Pull the Phi 3 model"
   ]
  },
  {
   "cell_type": "code",
   "execution_count": 8,
   "metadata": {},
   "outputs": [
    {
     "data": {
      "text/plain": [
       "{'status': 'success'}"
      ]
     },
     "execution_count": 8,
     "metadata": {},
     "output_type": "execute_result"
    }
   ],
   "source": [
    "import ollama # Import the library\n",
    "\n",
    "ollama.pull(\"phi3:3.8b\")"
   ]
  },
  {
   "cell_type": "markdown",
   "metadata": {},
   "source": [
    "Let's make a request to the LLM. We will use `Phi 3 3.8b`, which we downloaded a few moments ago"
   ]
  },
  {
   "cell_type": "code",
   "execution_count": 9,
   "metadata": {},
   "outputs": [
    {
     "name": "stdout",
     "output_type": "stream",
     "text": [
      "I'm Phi, an artificial intelligence developed to interact and provide information across various domains. How can I help you today?\n"
     ]
    }
   ],
   "source": [
    "# Make a \"chat\" call and specify the messages\n",
    "response = ollama.chat(model='phi3:3.8b', messages=[\n",
    "  {\n",
    "    'role': 'user',\n",
    "    'content': 'Who are you?',\n",
    "  },\n",
    "])\n",
    "\n",
    "# Print the contents of the respone\n",
    "print(response['message']['content'])"
   ]
  },
  {
   "cell_type": "markdown",
   "metadata": {},
   "source": [
    "In addition to the contents, each ollama response comes with additional metadata, let's peek into it"
   ]
  },
  {
   "cell_type": "code",
   "execution_count": 10,
   "metadata": {},
   "outputs": [
    {
     "data": {
      "text/plain": [
       "{'model': 'phi3:3.8b',\n",
       " 'created_at': '2024-09-10T02:29:31.263125Z',\n",
       " 'message': {'role': 'assistant',\n",
       "  'content': \"I'm Phi, an artificial intelligence developed to interact and provide information across various domains. How can I help you today?\"},\n",
       " 'done_reason': 'stop',\n",
       " 'done': True,\n",
       " 'total_duration': 1160719584,\n",
       " 'load_duration': 791851125,\n",
       " 'prompt_eval_count': 13,\n",
       " 'prompt_eval_duration': 78471000,\n",
       " 'eval_count': 27,\n",
       " 'eval_duration': 289441000}"
      ]
     },
     "execution_count": 10,
     "metadata": {},
     "output_type": "execute_result"
    }
   ],
   "source": [
    "response"
   ]
  },
  {
   "cell_type": "markdown",
   "metadata": {},
   "source": [
    "Let's build a small chat functionality using Ollama"
   ]
  },
  {
   "cell_type": "code",
   "execution_count": 13,
   "metadata": {},
   "outputs": [
    {
     "name": "stdout",
     "output_type": "stream",
     "text": [
      "Howdy back atcha! What brings you to these here parts?"
     ]
    }
   ],
   "source": [
    "# Create a type alias for chat history\n",
    "ChatHistory = list[dict[str, str]]\n",
    "# We will define a helper function that takes as input a message and the chat history\n",
    "def chat(message:str, history:ChatHistory = list(), model=\"llama3.1\") -> None:\n",
    "\t# Append the input to the conversation history\n",
    "\thistory.append({\"role\":\"user\", \"content\":message})\n",
    "\t# Call the streaming function\n",
    "\tstream = ollama.chat(\n",
    "\t\tmodel=model,\n",
    "\t\tmessages=history,\n",
    "\t\toptions={\n",
    "\t\t\t\"temperature\":0., \t\t\t# Set the temperature to zero to get consistent outputs\n",
    "\t\t},\t\t\n",
    "\t\tstream=True,\n",
    "\t)\n",
    "\n",
    "\tchunks = []\n",
    "\tfor chunk in stream:\n",
    "\t\t# Let's accumulate the chunk\n",
    "\t\tchunks.append(chunk)\n",
    "\t\t# Also  print it\n",
    "\t\tprint(chunk['message']['content'], end='', flush=True)\n",
    "\t# Once Ollama finish, let's update the chat history\n",
    "\tmessage = {'role':chunks[0]['message']['role'], 'content':''.join([chunk['message']['content'] for chunk in chunks])}\n",
    "\t# Add it to the chat history\n",
    "\thistory.append(message)\n",
    "\n",
    "# Test it\n",
    "chat(\"Howdy!\")"
   ]
  },
  {
   "cell_type": "markdown",
   "metadata": {},
   "source": [
    "# Using Phi 3 as a coding assistant\n",
    "\n",
    "We are going to let Phi 3 code a project for us. We will start describing the application we want, then iterate over each specific component"
   ]
  },
  {
   "cell_type": "code",
   "execution_count": 17,
   "metadata": {},
   "outputs": [
    {
     "name": "stdout",
     "output_type": "stream",
     "text": [
      "Based on best practices for structuring a Python project with FastAPI and SQLAlchemy, I propose the following directory structure:\n",
      "\n",
      "```bash\n",
      "book_catalog_api/\n",
      "├── app/\n",
      "│   ├── __init__.py\n",
      "│   ├── main.py  # The entry point of our API\n",
      "│   ├── models/  # Database models using SQLAlchemy\n",
      "│   │   ├── __init__.py\n",
      "│   │   ├── book.py\n",
      "│   │   └── user.py (if we need to manage users for authentication)\n",
      "│   ├── routes/\n",
      "│   │   ├── __init__.py\n",
      "│   │   ├── books.py  # API endpoints for managing books\n",
      "│   │   └── users.py (if we implement user management)\n",
      "│   ├── schemas/  # JSON schema definitions for request and response bodies\n",
      "│   │   ├── __init__.py\n",
      "│   │   ├── book_schema.py\n",
      "│   │   └── user_schema.py (if needed)\n",
      "│   ├── services/\n",
      "│   │   ├── __init__.py\n",
      "│   │   ├── book_service.py  # Business logic for managing books\n",
      "│   │   └── user_service.py (if we implement user management)\n",
      "│   └── utils/     # Utility functions and classes\n",
      "│       ├── __init__.py\n",
      "│       └── db_utils.py  # Functions for interacting with the database\n",
      "├── config/\n",
      "│   ├── __init__.py\n",
      "│   └── settings.py  # Configuration settings for our API (e.g., database connection)\n",
      "├── tests/\n",
      "│   ├── __init__.py\n",
      "│   ├── conftest.py  # Test fixtures and setup\n",
      "│   ├── test_main.py  # Tests for the main application\n",
      "│   └── test_models.py  # Tests for our database models\n",
      "└── requirements.txt  # Dependencies required by our project\n",
      "```\n",
      "\n",
      "This structure separates concerns into logical groups:\n",
      "\n",
      "- `app/`: The core of our API, containing business logic and routes.\n",
      "- `config/`: Holds configuration settings for the application.\n",
      "- `tests/`: Where we write tests to ensure our code works as expected.\n",
      "- `requirements.txt`: Lists all dependencies required by our project.\n",
      "\n",
      "Let me know if you'd like me to elaborate on any part of this structure or proceed with implementing the next requirement."
     ]
    }
   ],
   "source": [
    "history = [{\n",
    "\t\"role\":\"system\",\n",
    "\t\"content\":\"You are a coding assistant that helps a software developer\"\n",
    "\t}]\n",
    "\n",
    "chat(\"We will create together a REST API to mantain a database catalog of books. I will describe the requirements and you will be in charge of the details. The app will be primarily built using python, FAST API, and SQLAlchemy. Your first task is to define the directory structure of the application\", history)"
   ]
  },
  {
   "cell_type": "markdown",
   "metadata": {},
   "source": [
    "We will start with the models"
   ]
  },
  {
   "cell_type": "code",
   "execution_count": 18,
   "metadata": {},
   "outputs": [
    {
     "name": "stdout",
     "output_type": "stream",
     "text": [
      "Here are some example contents for the file `models/book.py`:\n",
      "\n",
      "**models/book.py**\n",
      "```python\n",
      "from .base import BookBaseModel\n",
      "\n",
      "class Book(BookBaseModel):\n",
      "    \"\"\"\n",
      "    A model representing a book.\n",
      "    \"\"\"\n",
      "\n",
      "    title = models.CharField(max_length=200)\n",
      "    author = models.CharField(max_length=100)\n",
      "    publication_date = models.DateField()\n",
      "    isbn = models.CharField(max_length=13, unique=True)\n",
      "\n",
      "    def __str__(self):\n",
      "        return self.title\n",
      "\n",
      "class BookReview(models.Model):\n",
      "    \"\"\"\n",
      "    A model representing a review for a book.\n",
      "    \"\"\"\n",
      "\n",
      "    book = models.ForeignKey(Book, on_delete=models.CASCADE)\n",
      "    rating = models.IntegerField()\n",
      "    review_text = models.TextField()\n",
      "\n",
      "    def __str__(self):\n",
      "        return f\"{self.book.title} - {self.rating}/5\"\n",
      "```\n",
      "In this example, we have two models: `Book` and `BookReview`. The `Book` model inherits from a base model (`BookBaseModel`) that might contain common fields or methods for all book-related models.\n",
      "\n",
      "The `BookReview` model has a foreign key to the `Book` model, indicating that each review is associated with one specific book."
     ]
    }
   ],
   "source": [
    "chat(\"Write down the contents for the file named `models/book.py`\")"
   ]
  },
  {
   "cell_type": "code",
   "execution_count": 19,
   "metadata": {},
   "outputs": [
    {
     "name": "stdout",
     "output_type": "stream",
     "text": [
      "Here are some example contents for the file `models/user.py`:\n",
      "\n",
      "**models/user.py**\n",
      "```python\n",
      "from django.contrib.auth.models import AbstractBaseUser, PermissionsMixin\n",
      "from .base import UserBaseModel\n",
      "\n",
      "class User(UserBaseModel, AbstractBaseUser, PermissionsMixin):\n",
      "    \"\"\"\n",
      "    A custom user model.\n",
      "    \"\"\"\n",
      "\n",
      "    username = models.CharField(max_length=150, unique=True)\n",
      "    email = models.EmailField(unique=True)\n",
      "    first_name = models.CharField(max_length=30, blank=True)\n",
      "    last_name = models.CharField(max_length=150, blank=True)\n",
      "\n",
      "    USERNAME_FIELD = 'username'\n",
      "    REQUIRED_FIELDS = ['email']\n",
      "\n",
      "    def __str__(self):\n",
      "        return self.username\n",
      "\n",
      "class UserProfile(models.Model):\n",
      "    \"\"\"\n",
      "    A model representing a user's profile.\n",
      "    \"\"\"\n",
      "\n",
      "    user = models.OneToOneField(User, on_delete=models.CASCADE)\n",
      "    bio = models.TextField(blank=True)\n",
      "    avatar = models.ImageField(upload_to='avatars/', blank=True)\n",
      "\n",
      "    def __str__(self):\n",
      "        return f\"{self.user.username}'s Profile\"\n",
      "```\n",
      "In this example, we have two models: `User` and `UserProfile`. The `User` model is a custom user model that inherits from Django's built-in `AbstractBaseUser` and `PermissionsMixin` classes. This allows us to customize the user model while still using Django's authentication system.\n",
      "\n",
      "The `UserProfile` model has a one-to-one relationship with the `User` model, indicating that each user has exactly one profile associated with them. The profile contains additional information about the user, such as their bio and avatar."
     ]
    }
   ],
   "source": [
    "chat(\"Write down the contents for the file named `models/user.py`\")"
   ]
  },
  {
   "cell_type": "code",
   "execution_count": 20,
   "metadata": {},
   "outputs": [
    {
     "name": "stdout",
     "output_type": "stream",
     "text": [
      "Here are the contents for the file `models/user.py`, using SQLAlchemy:\n",
      "\n",
      "**models/user.py**\n",
      "```python\n",
      "from sqlalchemy import Column, Integer, String, DateTime\n",
      "from sqlalchemy.ext.declarative import declarative_base\n",
      "from .base import Base\n",
      "\n",
      "class User(Base):\n",
      "    \"\"\"\n",
      "    A model representing a user.\n",
      "    \"\"\"\n",
      "\n",
      "    __tablename__ = 'users'\n",
      "\n",
      "    id = Column(Integer, primary_key=True)\n",
      "    username = Column(String(150), unique=True)\n",
      "    email = Column(String(100), unique=True)\n",
      "    first_name = Column(String(30), nullable=True)\n",
      "    last_name = Column(String(150), nullable=True)\n",
      "\n",
      "class UserProfile(Base):\n",
      "    \"\"\"\n",
      "    A model representing a user's profile.\n",
      "    \"\"\"\n",
      "\n",
      "    __tablename__ = 'user_profiles'\n",
      "\n",
      "    id = Column(Integer, primary_key=True)\n",
      "    user_id = Column(Integer, ForeignKey('users.id'), unique=True)\n",
      "    bio = Column(String(500), nullable=True)\n",
      "    avatar = Column(String(255), nullable=True)\n",
      "\n",
      "class UserSession(Base):\n",
      "    \"\"\"\n",
      "    A model representing a user's session.\n",
      "    \"\"\"\n",
      "\n",
      "    __tablename__ = 'user_sessions'\n",
      "\n",
      "    id = Column(Integer, primary_key=True)\n",
      "    user_id = Column(Integer, ForeignKey('users.id'), unique=True)\n",
      "    session_token = Column(String(100), nullable=False)\n",
      "    expires_at = Column(DateTime, nullable=False)\n",
      "\n",
      "class UserLoginHistory(Base):\n",
      "    \"\"\"\n",
      "    A model representing a user's login history.\n",
      "    \"\"\"\n",
      "\n",
      "    __tablename__ = 'user_login_history'\n",
      "\n",
      "    id = Column(Integer, primary_key=True)\n",
      "    user_id = Column(Integer, ForeignKey('users.id'), unique=True)\n",
      "    login_at = Column(DateTime, nullable=False)\n",
      "```\n",
      "In this example, we have four models: `User`, `UserProfile`, `UserSession`, and `UserLoginHistory`. Each model represents a table in the database, with columns defined using SQLAlchemy's declarative syntax. The relationships between these tables are established through foreign keys.\n",
      "\n",
      "Note that I've used the `declarative_base` function from SQLAlchemy to define the base class for our models, which is then inherited by each of the individual models. This allows us to use SQLAlchemy's ORM features to interact with the database."
     ]
    }
   ],
   "source": [
    "chat(\"Remember that you're using SQLAlchemy, not Django. Based on this, generate again the contents of `user.py`\")"
   ]
  },
  {
   "cell_type": "code",
   "execution_count": 21,
   "metadata": {},
   "outputs": [
    {
     "name": "stdout",
     "output_type": "stream",
     "text": [
      "Here are the contents for the files `routes/books.py` and `routes/users.py`, using FastAPI:\n",
      "\n",
      "**routes/books.py**\n",
      "```python\n",
      "from fastapi import APIRouter, Depends, HTTPException\n",
      "from sqlalchemy import select\n",
      "from models.book import Book, BookReview\n",
      "from database import get_db\n",
      "\n",
      "router = APIRouter()\n",
      "\n",
      "@router.get(\"/books/\", response_model=list[Book])\n",
      "async def read_books(db: Session = Depends(get_db)):\n",
      "    return db.execute(select(Book)).scalars().all()\n",
      "\n",
      "@router.get(\"/books/{book_id}\", response_model=Book)\n",
      "async def read_book(book_id: int, db: Session = Depends(get_db)):\n",
      "    book = db.get(Book, book_id)\n",
      "    if not book:\n",
      "        raise HTTPException(status_code=404, detail=\"Book not found\")\n",
      "    return book\n",
      "\n",
      "@router.post(\"/books/\", response_model=Book)\n",
      "async def create_book(book: BookCreate, db: Session = Depends(get_db)):\n",
      "    new_book = Book(**book.dict())\n",
      "    db.add(new_book)\n",
      "    db.commit()\n",
      "    return new_book\n",
      "\n",
      "@router.put(\"/books/{book_id}\", response_model=Book)\n",
      "async def update_book(book_id: int, book: BookUpdate, db: Session = Depends(get_db)):\n",
      "    existing_book = db.get(Book, book_id)\n",
      "    if not existing_book:\n",
      "        raise HTTPException(status_code=404, detail=\"Book not found\")\n",
      "    for field in book.dict().items():\n",
      "        setattr(existing_book, field[0], field[1])\n",
      "    db.commit()\n",
      "    return existing_book\n",
      "\n",
      "@router.delete(\"/books/{book_id}\")\n",
      "async def delete_book(book_id: int, db: Session = Depends(get_db)):\n",
      "    book = db.get(Book, book_id)\n",
      "    if not book:\n",
      "        raise HTTPException(status_code=404, detail=\"Book not found\")\n",
      "    db.delete(book)\n",
      "    db.commit()\n",
      "    return {\"message\": \"Book deleted\"}\n",
      "\n",
      "@router.post(\"/books/{book_id}/reviews/\")\n",
      "async def create_review(book_id: int, review: BookReviewCreate, db: Session = Depends(get_db)):\n",
      "    book = db.get(Book, book_id)\n",
      "    if not book:\n",
      "        raise HTTPException(status_code=404, detail=\"Book not found\")\n",
      "    new_review = BookReview(**review.dict())\n",
      "    new_review.book = book\n",
      "    db.add(new_review)\n",
      "    db.commit()\n",
      "    return new_review\n",
      "\n",
      "@router.get(\"/books/{book_id}/reviews/\")\n",
      "async def read_reviews(book_id: int, db: Session = Depends(get_db)):\n",
      "    book = db.get(Book, book_id)\n",
      "    if not book:\n",
      "        raise HTTPException(status_code=404, detail=\"Book not found\")\n",
      "    reviews = db.query(BookReview).filter_by(book_id=book.id).all()\n",
      "    return reviews\n",
      "```\n",
      "\n",
      "**routes/users.py**\n",
      "```python\n",
      "from fastapi import APIRouter, Depends, HTTPException\n",
      "from sqlalchemy import select\n",
      "from models.user import User, UserProfile\n",
      "from database import get_db\n",
      "\n",
      "router = APIRouter()\n",
      "\n",
      "@router.get(\"/users/\", response_model=list[User])\n",
      "async def read_users(db: Session = Depends(get_db)):\n",
      "    return db.execute(select(User)).scalars().all()\n",
      "\n",
      "@router.get(\"/users/{user_id}\", response_model=User)\n",
      "async def read_user(user_id: int, db: Session = Depends(get_db)):\n",
      "    user = db.get(User, user_id)\n",
      "    if not user:\n",
      "        raise HTTPException(status_code=404, detail=\"User not found\")\n",
      "    return user\n",
      "\n",
      "@router.post(\"/users/\", response_model=User)\n",
      "async def create_user(user: UserCreate, db: Session = Depends(get_db)):\n",
      "    new_user = User(**user.dict())\n",
      "    db.add(new_user)\n",
      "    db.commit()\n",
      "    return new_user\n",
      "\n",
      "@router.put(\"/users/{user_id}\", response_model=User)\n",
      "async def update_user(user_id: int, user: UserUpdate, db: Session = Depends(get_db)):\n",
      "    existing_user = db.get(User, user_id)\n",
      "    if not existing_user:\n",
      "        raise HTTPException(status_code=404, detail=\"User not found\")\n",
      "    for field in user.dict().items():\n",
      "        setattr(existing_user, field[0], field[1])\n",
      "    db.commit()\n",
      "    return existing_user\n",
      "\n",
      "@router.delete(\"/users/{user_id}\")\n",
      "async def delete_user(user_id: int, db: Session = Depends(get_db)):\n",
      "    user = db.get(User, user_id)\n",
      "    if not user:\n",
      "        raise HTTPException(status_code=404, detail=\"User not found\")\n",
      "    db.delete(user)\n",
      "    db.commit()\n",
      "    return {\"message\": \"User deleted\"}\n",
      "\n",
      "@router.post(\"/users/{user_id}/profile/\")\n",
      "async def create_profile(user_id: int, profile: UserProfileCreate, db: Session = Depends(get_db)):\n",
      "    user = db.get(User, user_id)\n",
      "    if not user:\n",
      "        raise HTTPException(status_code=404, detail=\"User not found\")\n",
      "    new_profile = UserProfile(**profile.dict())\n",
      "    new_profile.user = user\n",
      "    db.add(new_profile)\n",
      "    db.commit()\n",
      "    return new_profile\n",
      "\n",
      "@router.get(\"/users/{user_id}/profile/\")\n",
      "async def read_profile(user_id: int, db: Session = Depends(get_db)):\n",
      "    user = db.get(User, user_id)\n",
      "    if not user:\n",
      "        raise HTTPException(status_code=404, detail=\"User not found\")\n",
      "    profile = db.query(UserProfile).filter_by(user_id=user.id).first()\n",
      "    return profile\n",
      "```\n",
      "Note that I've assumed you have a `database.py` file with the necessary database setup and a `models` directory with the SQLAlchemy models. Also, I've used the `response_model` parameter to specify the expected response model for each endpoint."
     ]
    }
   ],
   "source": [
    "chat(\"Now you are going to write the endpoints using FastAPI. Write the contents of `routes/books.py` and `routes/users.py\")"
   ]
  },
  {
   "cell_type": "code",
   "execution_count": 22,
   "metadata": {},
   "outputs": [
    {
     "name": "stdout",
     "output_type": "stream",
     "text": [
      "Here are the contents for `main.py`:\n",
      "\n",
      "```python\n",
      "from fastapi import FastAPI\n",
      "from routes import users, books\n",
      "\n",
      "app = FastAPI()\n",
      "\n",
      "app.include_router(users.router, prefix=\"/users\")\n",
      "app.include_router(books.router, prefix=\"/books\")\n",
      "\n",
      "@app.get(\"/\")\n",
      "async def root():\n",
      "    return {\"message\": \"Welcome to the API!\"}\n",
      "```\n",
      "\n",
      "This `main.py` file sets up a FastAPI application and includes the routers for users and books. The `root` function is used as the default route for the API.\n",
      "\n",
      "Note that you'll need to have a `routes.py` file with the following contents:\n",
      "\n",
      "```python\n",
      "from fastapi import APIRouter\n",
      "\n",
      "users = APIRouter()\n",
      "books = APIRouter()\n",
      "```\n",
      "\n",
      "This sets up two separate routers, one for users and one for books. The actual routes are defined in the `users.py` and `books.py` files.\n",
      "\n",
      "Also, make sure to have a `uvicorn` command in your `requirements.txt` file:\n",
      "\n",
      "```bash\n",
      "uvicorn main:app --host 0.0.0.0 --port 8000 --reload\n",
      "```\n",
      "\n",
      "This will start the FastAPI application with hot reloading enabled."
     ]
    }
   ],
   "source": [
    "chat(\"Write the contents of `main.py`\")"
   ]
  },
  {
   "cell_type": "code",
   "execution_count": 23,
   "metadata": {},
   "outputs": [
    {
     "name": "stdout",
     "output_type": "stream",
     "text": [
      "Here is a simple `start.sh` script that runs uvicorn in production mode:\n",
      "\n",
      "```bash\n",
      "#!/bin/bash\n",
      "\n",
      "# Set environment variables for production mode\n",
      "export DATABASE_URL=\"your_database_url\"\n",
      "export SECRET_KEY=\"your_secret_key\"\n",
      "\n",
      "# Run uvicorn with production settings\n",
      "uvicorn main:app --host 0.0.0.0 --port 8000 --reload --workers 4 --log-level warning\n",
      "```\n",
      "\n",
      "Replace `your_database_url` and `your_secret_key` with your actual database URL and secret key.\n",
      "\n",
      "Note that this script assumes you have uvicorn installed in your environment. If not, you can install it using pip:\n",
      "\n",
      "```bash\n",
      "pip install uvicorn\n",
      "```\n",
      "\n",
      "Also, make sure to give execute permissions to the script by running:\n",
      "\n",
      "```bash\n",
      "chmod +x start.sh\n",
      "```\n",
      "\n",
      "You can then run the script by executing:\n",
      "\n",
      "```bash\n",
      "./start.sh\n",
      "```\n",
      "\n",
      "This will start your FastAPI application with uvicorn in production mode."
     ]
    }
   ],
   "source": [
    "chat(\"Write a bash script called `start.sh` that runs uvicorn in production mode\")"
   ]
  },
  {
   "cell_type": "code",
   "execution_count": 24,
   "metadata": {},
   "outputs": [
    {
     "name": "stdout",
     "output_type": "stream",
     "text": [
      "Here is a Dockerfile that builds and runs your FastAPI application:\n",
      "\n",
      "```dockerfile\n",
      "# Use an official Python runtime as a parent image\n",
      "FROM python:3.9-slim-buster\n",
      "\n",
      "# Set the working directory to /app\n",
      "WORKDIR /app\n",
      "\n",
      "# Copy the requirements file into the container\n",
      "COPY requirements.txt .\n",
      "\n",
      "# Install the dependencies specified in requirements.txt\n",
      "RUN pip install --no-cache-dir -r requirements.txt\n",
      "\n",
      "# Copy the application code into the container\n",
      "COPY . .\n",
      "\n",
      "# Expose the port that the application will use to communicate with the outside world\n",
      "EXPOSE 8000\n",
      "\n",
      "# Run the command to start the application when the container is launched\n",
      "CMD [\"uvicorn\", \"main:app\", \"--host\", \"0.0.0.0\", \"--port\", \"8000\", \"--reload\"]\n",
      "```\n",
      "\n",
      "This Dockerfile does the following:\n",
      "\n",
      "1. Uses an official Python 3.9 runtime as a parent image.\n",
      "2. Sets the working directory to `/app`.\n",
      "3. Copies the `requirements.txt` file into the container.\n",
      "4. Installs the dependencies specified in `requirements.txt`.\n",
      "5. Copies the application code into the container.\n",
      "6. Exposes port 8000, which is used by uvicorn to communicate with the outside world.\n",
      "7. Specifies the command to start the application when the container is launched.\n",
      "\n",
      "To build and run this Docker image, you can use the following commands:\n",
      "\n",
      "```bash\n",
      "docker build -t my-fastapi-app .\n",
      "docker run -p 8000:8000 my-fastapi-app\n",
      "```\n",
      "\n",
      "This will build a Docker image with the name `my-fastapi-app` and then run it, mapping port 8000 on the host machine to port 8000 in the container.\n",
      "\n",
      "To deploy this application to Azure, you can use Azure Container Instances (ACI) or Azure Kubernetes Service (AKS). Here's an example of how to do it using ACI:\n",
      "\n",
      "```bash\n",
      "az acr build --image my-fastapi-app:latest --registry <your-registry-name>\n",
      "```\n",
      "\n",
      "This will build the Docker image and push it to your Azure container registry.\n",
      "\n",
      "Then, you can create a container instance in Azure like this:\n",
      "\n",
      "```bash\n",
      "az container create --resource-group <your-resource-group> --name my-fastapi-container --image my-fastapi-app:latest --ports 8000\n",
      "```\n",
      "\n",
      "This will create a new container instance with the name `my-fastapi-container` and map port 8000 on the host machine to port 8000 in the container.\n",
      "\n",
      "Note that you'll need to replace `<your-registry-name>` and `<your-resource-group>` with your actual Azure registry name and resource group."
     ]
    }
   ],
   "source": [
    "chat(\"Now generate the contents of a dockerfile that builds and runs this application, to be deployed in Azure\")"
   ]
  },
  {
   "cell_type": "code",
   "execution_count": null,
   "metadata": {},
   "outputs": [],
   "source": []
  }
 ],
 "metadata": {
  "kernelspec": {
   "display_name": "base",
   "language": "python",
   "name": "python3"
  },
  "language_info": {
   "codemirror_mode": {
    "name": "ipython",
    "version": 3
   },
   "file_extension": ".py",
   "mimetype": "text/x-python",
   "name": "python",
   "nbconvert_exporter": "python",
   "pygments_lexer": "ipython3",
   "version": "3.11.9"
  }
 },
 "nbformat": 4,
 "nbformat_minor": 2
}
