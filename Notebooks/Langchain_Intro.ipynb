{
 "cells": [
  {
   "cell_type": "code",
   "execution_count": 11,
   "metadata": {},
   "outputs": [
    {
     "name": "stdout",
     "output_type": "stream",
     "text": [
      "Note: you may need to restart the kernel to use updated packages.\n"
     ]
    }
   ],
   "source": [
    "# Install dependencies\n",
    "\n",
    "%pip install -qU langchain langchain-openai langchain-community pypdf"
   ]
  },
  {
   "cell_type": "markdown",
   "metadata": {},
   "source": [
    "Set the environment variables. We need an API key and an LLM server, at minimum."
   ]
  },
  {
   "cell_type": "code",
   "execution_count": 2,
   "metadata": {},
   "outputs": [],
   "source": [
    "import os\n",
    "\n",
    "# We will add the api key as an environment variable. \n",
    "# You can set this value directrly form the shell,\n",
    "# instead of explicitly setting it on code.\n",
    "os.environ[\"OPENAI_API_KEY\"] = \"...\"\n",
    "# We need a custom endpoint, as we will be calling Verde's LLM\n",
    "API_ENDPOINT = \"https://llm1.cyverse.ai/v1\""
   ]
  },
  {
   "cell_type": "markdown",
   "metadata": {},
   "source": [
    "The first step is to create a `Chat` object. This will allow us to call it through langchain and later on using `LCEL`"
   ]
  },
  {
   "cell_type": "code",
   "execution_count": 3,
   "metadata": {},
   "outputs": [
    {
     "name": "stdout",
     "output_type": "stream",
     "text": [
      "AIMessage(content=\" Hello! I am a model of an artificial intelligence designed to assist with a variety of tasks. I don't have personal experiences or emotions, but I'm here to help you with your inquiries and questions to the best of my ability. How can I assist you today?\", additional_kwargs={'refusal': None}, response_metadata={'token_usage': {'completion_tokens': 59, 'prompt_tokens': 9, 'total_tokens': 68}, 'model_name': 'mistralai/Mistral-7B-Instruct-v0.3', 'system_fingerprint': None, 'finish_reason': 'stop', 'logprobs': None}, id='run-86980541-8e4b-4218-8271-8c58f1beece9-0', usage_metadata={'input_tokens': 9, 'output_tokens': 59, 'total_tokens': 68})\n"
     ]
    }
   ],
   "source": [
    "from langchain_openai import ChatOpenAI \t\t# We use the OpenAI protocol, but are using another provider (Verde)\n",
    "\n",
    "# We will connect to Mistral Instruct v0.3 through Verde\n",
    "# Notice how we need to specify the API endpoint\n",
    "model = ChatOpenAI(model=\"Mistral-7B-Instruct-v0.3\", base_url=API_ENDPOINT)\n",
    "\n",
    "# Do a test call\n",
    "from pprint import pprint\n",
    "response = model.invoke(\"Hello, who are you?\")\n",
    "\n",
    "pprint(response)"
   ]
  },
  {
   "cell_type": "markdown",
   "metadata": {},
   "source": [
    "Chat applications build upon the message history paradigm. There are three types of messages:\n",
    "\n",
    "- System\n",
    "- Human\n",
    "- AI\n",
    "\n",
    "The message history represents the conversation between the LLM and the user. The `System` message is optional. When present, it is usually used to define the _persona_ of the LLM. For example, establishing a role, defining a task, etc.\n",
    "\n",
    "Then, the history is composed of alternating `Human` - `AI` messages."
   ]
  },
  {
   "cell_type": "code",
   "execution_count": 4,
   "metadata": {},
   "outputs": [
    {
     "name": "stdout",
     "output_type": "stream",
     "text": [
      " Mistral is an open-source language model toolkit developed by Meta (formerly Facebook). It's designed for researchers and engineers working on large-scale language models. Mistral provides a flexible and scalable framework for training, inference, and evaluation of transformer-based language models.\n",
      "\n",
      "You might need to use Mistral if you're involved in the following tasks:\n",
      "\n",
      "1. **Language Model Training**: If you're working on developing or improving a language model, Mistral allows you to experiment with different architectures, learning rates, and other parameters to find the best model for your specific use case.\n",
      "\n",
      "2. **Multi-GPU Training**: Mistral supports distributed training across multiple GPUs, which can significantly speed up the training process for large models.\n",
      "\n",
      "3. **Data Parallelism**: Mistral uses data parallelism to improve the training process by splitting the dataset across multiple GPUs. This can help to reduce the training time and memory requirements.\n",
      "\n",
      "4. **Efficient Inference**: After training a model, Mistral provides efficient inference capabilities, allowing you to use the model to generate text or perform other tasks.\n",
      "\n",
      "5. **Integration with Other Tools**: Mistral can be integrated with other tools in the NLP pipeline, such as tokenizers, huggingface Transformers, and more.\n",
      "\n",
      "To get started with Mistral, you can clone the repository from GitHub and follow the installation and usage instructions provided in the documentation: https://github.com/facebookresearch/mistral\n"
     ]
    }
   ],
   "source": [
    "# Let's build a conversation history\n",
    "\n",
    "from langchain_core.messages import HumanMessage, SystemMessage\n",
    "\n",
    "messages = [\n",
    "    SystemMessage(content=\"You are a software developer, expert in the use of LLMs and langchain. Help the user answering the questions using didactic examples\"),\t\t\t\t\t\t\t\t\t\t# Use the system to establish the task of the LLM\n",
    "    HumanMessage(content=\"What is Mistral and why would I need to use it\"),\t\t# This is the first \"Human\" message\n",
    "]\n",
    "\n",
    "# Instead of invoking with a string, pass the whole message history\n",
    "response = model.invoke(messages)\n",
    "\n",
    "# Add the response to the history\n",
    "messages.append(response)\n",
    "\n",
    "# Let's peek into the response\n",
    "print(response.content)\n"
   ]
  },
  {
   "cell_type": "markdown",
   "metadata": {},
   "source": [
    "Observe how the return value of the LLM model is an `AIMessage` instance. We add that response to the message history, which will be used for a follow up question"
   ]
  },
  {
   "cell_type": "code",
   "execution_count": 5,
   "metadata": {},
   "outputs": [
    {
     "name": "stdout",
     "output_type": "stream",
     "text": [
      "[SystemMessage(content='You are a software developer, expert in the use of LLMs and langchain. Help the user answering the questions using didactic examples'),\n",
      " HumanMessage(content='What is Mistral and why would I need to use it'),\n",
      " AIMessage(content=\" Mistral is an open-source language model toolkit developed by Meta (formerly Facebook). It's designed for researchers and engineers working on large-scale language models. Mistral provides a flexible and scalable framework for training, inference, and evaluation of transformer-based language models.\\n\\nYou might need to use Mistral if you're involved in the following tasks:\\n\\n1. **Language Model Training**: If you're working on developing or improving a language model, Mistral allows you to experiment with different architectures, learning rates, and other parameters to find the best model for your specific use case.\\n\\n2. **Multi-GPU Training**: Mistral supports distributed training across multiple GPUs, which can significantly speed up the training process for large models.\\n\\n3. **Data Parallelism**: Mistral uses data parallelism to improve the training process by splitting the dataset across multiple GPUs. This can help to reduce the training time and memory requirements.\\n\\n4. **Efficient Inference**: After training a model, Mistral provides efficient inference capabilities, allowing you to use the model to generate text or perform other tasks.\\n\\n5. **Integration with Other Tools**: Mistral can be integrated with other tools in the NLP pipeline, such as tokenizers, huggingface Transformers, and more.\\n\\nTo get started with Mistral, you can clone the repository from GitHub and follow the installation and usage instructions provided in the documentation: https://github.com/facebookresearch/mistral\", additional_kwargs={'refusal': None}, response_metadata={'token_usage': {'completion_tokens': 324, 'prompt_tokens': 44, 'total_tokens': 368}, 'model_name': 'mistralai/Mistral-7B-Instruct-v0.3', 'system_fingerprint': None, 'finish_reason': 'stop', 'logprobs': None}, id='run-2f02ac19-5aa5-4878-9ef6-83ecc86fde03-0', usage_metadata={'input_tokens': 44, 'output_tokens': 324, 'total_tokens': 368})]\n"
     ]
    }
   ],
   "source": [
    "pprint(messages)"
   ]
  },
  {
   "cell_type": "markdown",
   "metadata": {},
   "source": [
    "Now, let's use a follow up query that relies on the coneversation history."
   ]
  },
  {
   "cell_type": "code",
   "execution_count": 6,
   "metadata": {},
   "outputs": [
    {
     "name": "stdout",
     "output_type": "stream",
     "text": [
      " To provide a short example of using a language model (LLM) with Mistral in Python, let's create a script that generates a greeting for a given name. We will use the T5 model, which is supported by Mistral, to perform this task.\n",
      "\n",
      "First, make sure you have the Mistral and transformers packages installed:\n",
      "\n",
      "```bash\n",
      "pip install mistral transformers\n",
      "```\n",
      "\n",
      "Next, create a Python script called `greeting.py` and paste the following code:\n",
      "\n",
      "```python\n",
      "import torch\n",
      "from transformers import AutoTokenizer, AutoModelForSeq2SeqLM\n",
      "from mistral.experiment import Experiment\n",
      "from mistral.executor import SimpleExecutor\n",
      "from mistral.opt import AdamW\n",
      "\n",
      "def main():\n",
      "    # Load the T5 model and tokenizer\n",
      "    model_name = \"t5-small\"\n",
      "    tokenizer = AutoTokenizer.from_pretrained(model_name)\n",
      "    model = AutoModelForSeq2SeqLM.from_pretrained(model_name)\n",
      "\n",
      "    # Define the model input and output\n",
      "    input_text = f\"Hello, my name is {\"John\"}. How can I assist you today?\"\n",
      "    target_text = \"What's up, John!\"\n",
      "\n",
      "    # Tokenize the input and target texts\n",
      "    input_ids = tokenizer.encode(input_text, return_tensors=\"pt\")\n",
      "    target_ids = tokenizer.encode(target_text, return_tensors=\"pt\")\n",
      "\n",
      "    # Create the experiment and executor\n",
      "    experiment = Experiment()\n",
      "    executor = SimpleExecutor(model, experiment)\n",
      "\n",
      "    # Define the training parameters\n",
      "    learning_rate = 1e-4\n",
      "    num_epochs = 1\n",
      "    batch_size = 1\n",
      "    device = torch.device(\"cuda\" if torch.cuda.is_available() else \"cpu\")\n",
      "\n",
      "    # Move the model and inputs to the device\n",
      "    model.to(device)\n",
      "    input_ids = input_ids.to(device)\n",
      "    target_ids = target_ids.to(device)\n",
      "\n",
      "    # Create the optimizer\n",
      "    optimizer = AdamW(model.parameters(), lr=learning_rate)\n",
      "\n",
      "    # Define the training loop\n",
      "    for epoch in range(num_epochs):\n",
      "        # Perform the forward pass\n",
      "        with torch.no_grad():\n",
      "            output = executor.forward(input_ids, target_ids)\n",
      "            loss = output.loss\n",
      "\n",
      "        # Perform the backward pass and update the weights\n",
      "        optimizer.zero_grad()\n",
      "        loss.backward()\n",
      "        optimizer.step()\n",
      "\n",
      "    # Generate the greeting for a new name\n",
      "    name = \"Alice\"\n",
      "    input_text = f\"Hello, my name is {\"Alice\"}. How can I assist you today?\"\n",
      "    input_ids = tokenizer.encode(input_text, return_tensors=\"pt\")\n",
      "    input_ids = input_ids.to(device)\n",
      "\n",
      "    # Run the model to generate the greeting\n",
      "    output = executor.forward(input_ids)\n",
      "    predicted_text = tokenizer.decode(output.predictions[0])\n",
      "    print(f\"Generated greeting for Alice: {predicted_text}\")\n",
      "\n",
      "if __name__ == \"__main__\":\n",
      "    main()\n",
      "```\n",
      "\n",
      "This script loads the T5-small model, defines a simple training loop, and generates a greeting for a new name. You can modify the input text, target text, and model parameters to suit your specific use case.\n",
      "\n",
      "To run the script, execute the following command:\n",
      "\n",
      "```bash\n",
      "python greeting.py\n",
      "```\n",
      "\n",
      "This example demonstrates the basic usage of a language model with Mistral and the transformers library in Python. You can further explore Mistral's capabilities by visiting its documentation: https://github.com/facebookresearch/mistral/blob/main/docs/guides/quickstart.md\n"
     ]
    }
   ],
   "source": [
    "messages.append(HumanMessage(\"Give me a short example of a python script that calls the aforementioned LLM\"))\n",
    "\n",
    "response = model.invoke(messages)\n",
    "messages.append(response)\n",
    "\n",
    "print(response.content)"
   ]
  },
  {
   "cell_type": "markdown",
   "metadata": {},
   "source": [
    "Notice how we didn't explicity refered to Mistral, instead it was picked up from the message history."
   ]
  },
  {
   "cell_type": "markdown",
   "metadata": {},
   "source": [
    "Writting messages can get really tedious. We make use of message templates to simplify tasks by parameterizing the values.\n",
    "\n",
    "We will use a template to create a document summarizer built on top of the LLM"
   ]
  },
  {
   "cell_type": "code",
   "execution_count": 7,
   "metadata": {},
   "outputs": [
    {
     "name": "stdout",
     "output_type": "stream",
     "text": [
      "ChatPromptValue(messages=[SystemMessage(content='Summarize the document provided by the user into a succint, at most three-sentence statement'), HumanMessage(content='\\nThe Congress shall have Power To lay and collect Taxes, Duties, Imposts and Excises, to pay the Debts and provide for the common Defence and general Welfare of the United States; but all Duties, Imposts and Excises shall be uniform throughout the United States;\\nTo borrow Money on the credit of the United States;\\nTo regulate Commerce with foreign Nations, and among the several States, and with the Indian Tribes;\\nTo establish an uniform Rule of Naturalization, and uniform Laws on the subject of Bankruptcies throughout the United States;\\nTo coin Money, regulate the Value thereof, and of foreign Coin, and fix the Standard of Weights and Measures;\\nTo provide for the Punishment of counterfeiting the Securities and current Coin of the United States;\\nTo establish Post Offices and post Roads;\\nTo promote the Progress of Science and useful Arts, by securing for limited Times to Authors and Inventors the exclusive Right to their respective Writings and Discoveries;\\nTo constitute Tribunals inferior to the supreme Court;\\nTo define and punish Piracies and Felonies committed on the high Seas, and Offences against the Law of Nations;\\nTo declare War, grant Letters of Marque and Reprisal, and make Rules concerning Captures on Land and Water;\\nTo raise and support Armies, but no Appropriation of Money to that Use shall be for a longer Term than two Years;\\nTo provide and maintain a Navy;\\nTo make Rules for the Government and Regulation of the land and naval Forces;\\nTo provide for calling forth the Militia to execute the Laws of the Union, suppress Insurrections and repel Invasions;\\nTo provide for organizing, arming, and disciplining, the Militia, and for governing such Part of them as may be employed in the Service of the United States, reserving to the States respectively, the Appointment of the Officers, and the Authority of training the Militia according to the discipline prescribed by Congress;\\nTo exercise exclusive Legislation in all Cases whatsoever, over such District (not exceeding ten Miles square) as may, by Cession of particular States, and the Acceptance of Congress, become the Seat of the Government of the United States, and to exercise like Authority over all Places purchased by the Consent of the Legislature of the State in which the Same shall be, for the Erection of Forts, Magazines, Arsenals, dock-Yards, and other needful Buildings;—And\\nTo make all Laws which shall be necessary and proper for carrying into Execution the foregoing Powers, and all other Powers vested by this Constitution in the Government of the United States, or in any Department or Officer thereof.\\n')])\n",
      "\n",
      "(' The U.S. Constitution grants Congress the power to levy taxes, regulate '\n",
      " 'commerce, establish a uniform rule of naturalization, coin money, establish '\n",
      " 'post offices, promote science and useful arts, declare war, raise and '\n",
      " 'maintain armies and navies, organize the militia, and make laws necessary '\n",
      " 'for executing these powers. Additionally, it allows for exclusive '\n",
      " 'legislation over the District of Columbia and other acquired lands.')\n"
     ]
    }
   ],
   "source": [
    "# Import the chat template\n",
    "from langchain_core.prompts import ChatPromptTemplate\n",
    "\n",
    "prompt_template = ChatPromptTemplate.from_messages(\n",
    "\t[(\"system\", \"Summarize the document provided by the user into a succint, at most three-sentence statement\"),\n",
    "\t(\"user\", \"{text}\")]\n",
    ")\n",
    "\n",
    "document = \"\"\"\n",
    "The Congress shall have Power To lay and collect Taxes, Duties, Imposts and Excises, to pay the Debts and provide for the common Defence and general Welfare of the United States; but all Duties, Imposts and Excises shall be uniform throughout the United States;\n",
    "To borrow Money on the credit of the United States;\n",
    "To regulate Commerce with foreign Nations, and among the several States, and with the Indian Tribes;\n",
    "To establish an uniform Rule of Naturalization, and uniform Laws on the subject of Bankruptcies throughout the United States;\n",
    "To coin Money, regulate the Value thereof, and of foreign Coin, and fix the Standard of Weights and Measures;\n",
    "To provide for the Punishment of counterfeiting the Securities and current Coin of the United States;\n",
    "To establish Post Offices and post Roads;\n",
    "To promote the Progress of Science and useful Arts, by securing for limited Times to Authors and Inventors the exclusive Right to their respective Writings and Discoveries;\n",
    "To constitute Tribunals inferior to the supreme Court;\n",
    "To define and punish Piracies and Felonies committed on the high Seas, and Offences against the Law of Nations;\n",
    "To declare War, grant Letters of Marque and Reprisal, and make Rules concerning Captures on Land and Water;\n",
    "To raise and support Armies, but no Appropriation of Money to that Use shall be for a longer Term than two Years;\n",
    "To provide and maintain a Navy;\n",
    "To make Rules for the Government and Regulation of the land and naval Forces;\n",
    "To provide for calling forth the Militia to execute the Laws of the Union, suppress Insurrections and repel Invasions;\n",
    "To provide for organizing, arming, and disciplining, the Militia, and for governing such Part of them as may be employed in the Service of the United States, reserving to the States respectively, the Appointment of the Officers, and the Authority of training the Militia according to the discipline prescribed by Congress;\n",
    "To exercise exclusive Legislation in all Cases whatsoever, over such District (not exceeding ten Miles square) as may, by Cession of particular States, and the Acceptance of Congress, become the Seat of the Government of the United States, and to exercise like Authority over all Places purchased by the Consent of the Legislature of the State in which the Same shall be, for the Erection of Forts, Magazines, Arsenals, dock-Yards, and other needful Buildings;—And\n",
    "To make all Laws which shall be necessary and proper for carrying into Execution the foregoing Powers, and all other Powers vested by this Constitution in the Government of the United States, or in any Department or Officer thereof.\n",
    "\"\"\"\n",
    "\n",
    "prompt = prompt_template.invoke({\"text\": document})\n",
    "response = model.invoke(prompt)\n",
    "\n",
    "pprint(prompt)\n",
    "print()\n",
    "pprint(response.content)"
   ]
  },
  {
   "cell_type": "markdown",
   "metadata": {},
   "source": [
    "We had to call `invoke` times: one for the prompt template and the other on the model. We can streamline this by _chaining_ them together"
   ]
  },
  {
   "cell_type": "code",
   "execution_count": 8,
   "metadata": {},
   "outputs": [
    {
     "name": "stdout",
     "output_type": "stream",
     "text": [
      "(' The U.S. Congress has the power to collect taxes, regulate commerce, '\n",
      " 'establish a uniform rule of naturalization, coin money, establish post '\n",
      " 'offices, promote science and the arts, declare war, raise armies and navies, '\n",
      " 'govern militia, and make all necessary laws for executing these powers as '\n",
      " 'outlined in the U.S. Constitution. Additionally, the Congress holds '\n",
      " 'exclusive legislation over the District of Columbia and places purchased for '\n",
      " 'federal buildings.')\n"
     ]
    }
   ],
   "source": [
    "chain = prompt_template | model\n",
    "\n",
    "response = chain.invoke({\"text\": document})\n",
    "\n",
    "pprint(response.content)"
   ]
  },
  {
   "cell_type": "markdown",
   "metadata": {},
   "source": [
    "We still get as a response an `AIMessage` object. We can use _output parsers_ to transform messages into a specific format. The most basic is `StrOutputParser`.\n",
    "\n",
    "There are other parsers to handle Json, Http responses, etc."
   ]
  },
  {
   "cell_type": "code",
   "execution_count": 9,
   "metadata": {},
   "outputs": [
    {
     "name": "stdout",
     "output_type": "stream",
     "text": [
      "(' The U.S. Constitution grants Congress the power to:\\n'\n",
      " '1. Impose and collect taxes, borrow money, and regulate commerce '\n",
      " 'domestically and internationally.\\n'\n",
      " '2. Establish the U.S. monetary system, coin money, and regulate foreign '\n",
      " 'currency.\\n'\n",
      " '3. Establish post offices, promote science and useful arts, create courts, '\n",
      " 'and make laws necessary for the execution of its powers. Additionally, it '\n",
      " 'grants specific powers regarding defense, naturalization, bankruptcies, '\n",
      " 'piracy, war, militia, and exclusive legislation over federal territories.')\n"
     ]
    }
   ],
   "source": [
    "from langchain_core.output_parsers import StrOutputParser\n",
    "\n",
    "str_parser = StrOutputParser()\n",
    "\n",
    "chain = prompt_template | model | str_parser\n",
    "\n",
    "response = chain.invoke({\"text\": document})\n",
    "\n",
    "# Notice how we don't have to call \"content\" any more\n",
    "pprint(response)"
   ]
  },
  {
   "cell_type": "markdown",
   "metadata": {},
   "source": [
    "The `|` operator that connects together the individual comonents is part of `LCEL`. Langchain's declarative syntax to define chains: pipelines of components that orchestrate data flow."
   ]
  },
  {
   "cell_type": "markdown",
   "metadata": {},
   "source": [
    "Let's build a sample _chain_ to generate a json object that represents an invoice from a pdf file."
   ]
  },
  {
   "cell_type": "code",
   "execution_count": 25,
   "metadata": {},
   "outputs": [
    {
     "name": "stdout",
     "output_type": "stream",
     "text": [
      "{'text': 'CPB Software (Germany) GmbH - Im Bruch 3 - 63897 Miltenberg/Main\\n'\n",
      "         'Musterkunde AG\\n'\n",
      "         'Mr. John Doe\\n'\n",
      "         'Musterstr. 23\\n'\n",
      "         '12345 Musterstadt Name:  Stefanie Müller\\n'\n",
      "         'Phone: +49 9371 9786-0\\n'\n",
      "         'Invoice WMACCESS Internet\\n'\n",
      "         'VAT No. DE199378386\\n'\n",
      "         'Invoice No\\n'\n",
      "         '123100401\\n'\n",
      "         'Amount\\n'\n",
      "         '-without VAT-quantity\\n'\n",
      "         '130,00 € 1\\n'\n",
      "         '10,00 € 0\\n'\n",
      "         '50,00 € 0\\n'\n",
      "         '1.000,00 € 0\\n'\n",
      "         '10,00 € 0\\n'\n",
      "         '0,58 € 14\\n'\n",
      "         '0,70 € 0\\n'\n",
      "         '1,50 € 162\\n'\n",
      "         '0,50 € 0\\n'\n",
      "         '0,80 € 0\\n'\n",
      "         '1,80 € 0\\n'\n",
      "         '0,30 € 0\\n'\n",
      "         '0,30 € 0\\n'\n",
      "         '0,40 € 0\\n'\n",
      "         '0,40 € 0\\n'\n",
      "         '0,30 € 0\\n'\n",
      "         '0,30 € 0\\n'\n",
      "         'Terms of Payment: Immediate payment without discount. Any bank '\n",
      "         'charges must be paid by the invoice recipient.\\n'\n",
      "         'Bank fees at our expense will be charged to the invoice recipient!\\n'\n",
      "         'Please credit the amount invoiced to IBAN DE29 1234 5678 9012 3456 '\n",
      "         '78 | BIC GENODE51MIC (SEPA Credit Transfer)\\n'\n",
      "         'This invoice is generated automatically and will not be '\n",
      "         'signedTransaction Fee T6 0,00 €130,00 €\\n'\n",
      "         'Basis fee for additional user accounts 0,00 €\\n'\n",
      "         '0,00 €\\n'\n",
      "         '0,00 €Basic Fee wmPos\\n'\n",
      "         'Change of user accounts\\n'\n",
      "         'Transaction Fee T101.02.2024 - 29.02.2024\\n'\n",
      "         'Transaction Fee G6 0,00 €0,00 €\\n'\n",
      "         'VAT 19 % 72,41 €Transaction Fee G3 0,00 €\\n'\n",
      "         'Transaction Fee G5 0,00 €Transaction Fee G1 0,00 €\\n'\n",
      "         'Transaction Fee G4Transaction Fee G2\\n'\n",
      "         '0,00 €Date\\n'\n",
      "         '1. März 2024Customer No\\n'\n",
      "         '12345Invoice Period\\n'\n",
      "         '0,00 €\\n'\n",
      "         'Transaction Fee T5 0,00 €243,00 €8,12 €\\n'\n",
      "         'Transaction Fee T2 0,00 €\\n'\n",
      "         'Transaction Fee T3\\n'\n",
      "         'Gross Amount incl. VAT 453,53 €Total 381,12 €Service Description '\n",
      "         'Total Amount\\n'\n",
      "         'Basic Fee wmView\\n'\n",
      "         'Basic Fee wmGuide\\n'\n",
      "         '0,00 €\\n'\n",
      "         'Transaction Fee T4\\n'\n",
      "         '\\n'\n",
      "         'Request sections: T1: T2: T3: T4: T5: T6: G1: G2: G3: G4: G5: G6:\\n'\n",
      "         'Amount in Euro: 0,58 0,70 1,50 0,50 0,80 1,80 0,30 0,30 0,40 0,40 '\n",
      "         '0,30 0,30\\n'\n",
      "         'user-account-1 10 0 99 0 0 0 0 0 0 0 0 0 154,30 €\\n'\n",
      "         'user-account-2 4 0 63 0 0 0 0 0 0 0 0 0 96,82 €\\n'\n",
      "         'Transaction Fee Seg T1: T2: T3: T4: T5: T6: G1: G2: G3: G4: G5: G6:\\n'\n",
      "         'Queries in Total: 14 0 162 0 0 0 0 0 0 0 0 0\\n'\n",
      "         'Total in Euro: 8,12 € 0,00 € 243,00 € 0,00 € 0,00 € 0,00 € 0,00 € '\n",
      "         '0,00 € 0,00 € 0,00 € 0,00 € 0,00 € 251,12 €Invoice Details\\n'\n",
      "         'Period:        01.02.2024        to        29.02.2024\\n'\n",
      "         'Unit:        Musterkunde '\n",
      "         'AG                                                            12345\\n'\n",
      "         'The explanation of the query fee categories (T1 to T6 and G1 to G6) '\n",
      "         'can be found on our website:\\n'\n",
      "         'https://www.wmaccess.com/abfragekategorien\\n'\n",
      "         '\\n'\n",
      "         'T1: T2: T3: T4: T5: T6:\\n'\n",
      "         '4 0 9 0 0 0\\n'\n",
      "         '0 0 12 0 0 0\\n'\n",
      "         '0 0 4 0 0 0\\n'\n",
      "         '5 0 36 0 0 0\\n'\n",
      "         '0 0 19 0 0 0\\n'\n",
      "         '1 0 7 0 0 0\\n'\n",
      "         '2 0 6 0 0 0\\n'\n",
      "         '0 0 11 0 0 0\\n'\n",
      "         '0 0 15 0 0 0\\n'\n",
      "         '0 0 5 0 0 0\\n'\n",
      "         '1 0 23 0 0 0\\n'\n",
      "         '1 0 4 0 0 0\\n'\n",
      "         '0 0 11 0 0 0\\n'\n",
      "         '0,58 0,70 1,50 0,50 0,80 1,8016,50 €Kpi/22695 10,16 €GS 32090 11,08 '\n",
      "         '€18,00 €\\n'\n",
      "         '28,50 €CRS/28432\\n'\n",
      "         '16,50 €WPN:24791 6,58 €Ttrb/17885 35,08 €SF-M 596/99-08 7,50 €22,50 '\n",
      "         '€Invoice Details for wmView Query Reference\\n'\n",
      "         'Period:        01.02.2024        to        29.02.2024\\n'\n",
      "         'Unit:        Musterkunde '\n",
      "         'AG                                                            12345\\n'\n",
      "         'wmview, wmProfile and User Profiles Query Segments:\\n'\n",
      "         '56,90 €CCL/371515,82 €\\n'\n",
      "         '6,00 €AZR/31/27439\\n'\n",
      "         'Price for each Query in Euro:Query Reference:\\n'\n",
      "         '*Not specified*\\n'\n",
      "         'Wwt/15658PG 7772Cs/52113\\n'\n",
      "         'Rjn/11138\\n'}\n"
     ]
    }
   ],
   "source": [
    "from langchain_community.document_loaders import PyPDFLoader\n",
    "\n",
    "# Sample PDF invoice\n",
    "pdf_path = \"sample-invoice.pdf\"\n",
    "\n",
    "\n",
    "def read_pdf(file_path:str) -> str:\n",
    "\tloader = PyPDFLoader(file_path)\n",
    "\tpages = loader.load()\n",
    "\n",
    "\treturn {\"text\": '\\n'.join([p.page_content for p in pages])}\n",
    "\n",
    "pprint(read_pdf(pdf_path))"
   ]
  },
  {
   "cell_type": "code",
   "execution_count": 26,
   "metadata": {},
   "outputs": [
    {
     "name": "stdout",
     "output_type": "stream",
     "text": [
      "{'text': 'CPB Software (Germany) GmbH - Im Bruch 3 - 63897 Miltenberg/Main\\n'\n",
      "         'Musterkunde AG\\n'\n",
      "         'Mr. John Doe\\n'\n",
      "         'Musterstr. 23\\n'\n",
      "         '12345 Musterstadt Name:  Stefanie Müller\\n'\n",
      "         'Phone: +49 9371 9786-0\\n'\n",
      "         'Invoice WMACCESS Internet\\n'\n",
      "         'VAT No. DE199378386\\n'\n",
      "         'Invoice No\\n'\n",
      "         '123100401\\n'\n",
      "         'Amount\\n'\n",
      "         '-without VAT-quantity\\n'\n",
      "         '130,00 € 1\\n'\n",
      "         '10,00 € 0\\n'\n",
      "         '50,00 € 0\\n'\n",
      "         '1.000,00 € 0\\n'\n",
      "         '10,00 € 0\\n'\n",
      "         '0,58 € 14\\n'\n",
      "         '0,70 € 0\\n'\n",
      "         '1,50 € 162\\n'\n",
      "         '0,50 € 0\\n'\n",
      "         '0,80 € 0\\n'\n",
      "         '1,80 € 0\\n'\n",
      "         '0,30 € 0\\n'\n",
      "         '0,30 € 0\\n'\n",
      "         '0,40 € 0\\n'\n",
      "         '0,40 € 0\\n'\n",
      "         '0,30 € 0\\n'\n",
      "         '0,30 € 0\\n'\n",
      "         'Terms of Payment: Immediate payment without discount. Any bank '\n",
      "         'charges must be paid by the invoice recipient.\\n'\n",
      "         'Bank fees at our expense will be charged to the invoice recipient!\\n'\n",
      "         'Please credit the amount invoiced to IBAN DE29 1234 5678 9012 3456 '\n",
      "         '78 | BIC GENODE51MIC (SEPA Credit Transfer)\\n'\n",
      "         'This invoice is generated automatically and will not be '\n",
      "         'signedTransaction Fee T6 0,00 €130,00 €\\n'\n",
      "         'Basis fee for additional user accounts 0,00 €\\n'\n",
      "         '0,00 €\\n'\n",
      "         '0,00 €Basic Fee wmPos\\n'\n",
      "         'Change of user accounts\\n'\n",
      "         'Transaction Fee T101.02.2024 - 29.02.2024\\n'\n",
      "         'Transaction Fee G6 0,00 €0,00 €\\n'\n",
      "         'VAT 19 % 72,41 €Transaction Fee G3 0,00 €\\n'\n",
      "         'Transaction Fee G5 0,00 €Transaction Fee G1 0,00 €\\n'\n",
      "         'Transaction Fee G4Transaction Fee G2\\n'\n",
      "         '0,00 €Date\\n'\n",
      "         '1. März 2024Customer No\\n'\n",
      "         '12345Invoice Period\\n'\n",
      "         '0,00 €\\n'\n",
      "         'Transaction Fee T5 0,00 €243,00 €8,12 €\\n'\n",
      "         'Transaction Fee T2 0,00 €\\n'\n",
      "         'Transaction Fee T3\\n'\n",
      "         'Gross Amount incl. VAT 453,53 €Total 381,12 €Service Description '\n",
      "         'Total Amount\\n'\n",
      "         'Basic Fee wmView\\n'\n",
      "         'Basic Fee wmGuide\\n'\n",
      "         '0,00 €\\n'\n",
      "         'Transaction Fee T4\\n'\n",
      "         '\\n'\n",
      "         'Request sections: T1: T2: T3: T4: T5: T6: G1: G2: G3: G4: G5: G6:\\n'\n",
      "         'Amount in Euro: 0,58 0,70 1,50 0,50 0,80 1,80 0,30 0,30 0,40 0,40 '\n",
      "         '0,30 0,30\\n'\n",
      "         'user-account-1 10 0 99 0 0 0 0 0 0 0 0 0 154,30 €\\n'\n",
      "         'user-account-2 4 0 63 0 0 0 0 0 0 0 0 0 96,82 €\\n'\n",
      "         'Transaction Fee Seg T1: T2: T3: T4: T5: T6: G1: G2: G3: G4: G5: G6:\\n'\n",
      "         'Queries in Total: 14 0 162 0 0 0 0 0 0 0 0 0\\n'\n",
      "         'Total in Euro: 8,12 € 0,00 € 243,00 € 0,00 € 0,00 € 0,00 € 0,00 € '\n",
      "         '0,00 € 0,00 € 0,00 € 0,00 € 0,00 € 251,12 €Invoice Details\\n'\n",
      "         'Period:        01.02.2024        to        29.02.2024\\n'\n",
      "         'Unit:        Musterkunde '\n",
      "         'AG                                                            12345\\n'\n",
      "         'The explanation of the query fee categories (T1 to T6 and G1 to G6) '\n",
      "         'can be found on our website:\\n'\n",
      "         'https://www.wmaccess.com/abfragekategorien\\n'\n",
      "         '\\n'\n",
      "         'T1: T2: T3: T4: T5: T6:\\n'\n",
      "         '4 0 9 0 0 0\\n'\n",
      "         '0 0 12 0 0 0\\n'\n",
      "         '0 0 4 0 0 0\\n'\n",
      "         '5 0 36 0 0 0\\n'\n",
      "         '0 0 19 0 0 0\\n'\n",
      "         '1 0 7 0 0 0\\n'\n",
      "         '2 0 6 0 0 0\\n'\n",
      "         '0 0 11 0 0 0\\n'\n",
      "         '0 0 15 0 0 0\\n'\n",
      "         '0 0 5 0 0 0\\n'\n",
      "         '1 0 23 0 0 0\\n'\n",
      "         '1 0 4 0 0 0\\n'\n",
      "         '0 0 11 0 0 0\\n'\n",
      "         '0,58 0,70 1,50 0,50 0,80 1,8016,50 €Kpi/22695 10,16 €GS 32090 11,08 '\n",
      "         '€18,00 €\\n'\n",
      "         '28,50 €CRS/28432\\n'\n",
      "         '16,50 €WPN:24791 6,58 €Ttrb/17885 35,08 €SF-M 596/99-08 7,50 €22,50 '\n",
      "         '€Invoice Details for wmView Query Reference\\n'\n",
      "         'Period:        01.02.2024        to        29.02.2024\\n'\n",
      "         'Unit:        Musterkunde '\n",
      "         'AG                                                            12345\\n'\n",
      "         'wmview, wmProfile and User Profiles Query Segments:\\n'\n",
      "         '56,90 €CCL/371515,82 €\\n'\n",
      "         '6,00 €AZR/31/27439\\n'\n",
      "         'Price for each Query in Euro:Query Reference:\\n'\n",
      "         '*Not specified*\\n'\n",
      "         'Wwt/15658PG 7772Cs/52113\\n'\n",
      "         'Rjn/11138\\n'}\n"
     ]
    }
   ],
   "source": [
    "# Make our function a langchain component to be compatitle with LCEL\n",
    "from langchain_core.runnables import RunnableLambda\n",
    "\n",
    "pdf_reader = RunnableLambda(read_pdf)\n",
    "\n",
    "pprint(pdf_reader.invoke(pdf_path))"
   ]
  },
  {
   "cell_type": "code",
   "execution_count": 28,
   "metadata": {},
   "outputs": [
    {
     "name": "stdout",
     "output_type": "stream",
     "text": [
      "{'additional_information': 'The explanation of the query fee categories (T1 to '\n",
      "                           'T6 and G1 to G6) can be found on our website: '\n",
      "                           'https://www.wmaccess.com/abfragekategorien',\n",
      " 'biller': {'address': {'city': 'Miltenberg/Main',\n",
      "                        'country': 'Germany',\n",
      "                        'postal_code': '63897',\n",
      "                        'street': 'Im Bruch 3'},\n",
      "            'name': 'CPB Software (Germany) GmbH'},\n",
      " 'charges': [{'amount': 0, 'type': 'Transaction Fee T6'},\n",
      "             {'amount': 0, 'type': 'Basic Fee wmPos'},\n",
      "             {'charges': [{'amount': 154.3, 'user_account': 'user-account-1'},\n",
      "                          {'amount': 96.82, 'user_account': 'user-account-2'}],\n",
      "              'type': 'Change of user accounts'},\n",
      "             {'amount': 0, 'type': 'Transaction Fee T101.02.2024 - 29.02.2024'},\n",
      "             {'amount': 0, 'type': 'Transaction Fee G6'},\n",
      "             {'amount': 0, 'type': 'Transaction Fee G3'},\n",
      "             {'amount': 0, 'type': 'Transaction Fee G5'},\n",
      "             {'amount': 0, 'type': 'Transaction Fee G1'},\n",
      "             {'amount': 0, 'type': 'Transaction Fee G4'},\n",
      "             {'amount': 0, 'type': 'Transaction Fee G2'},\n",
      "             {'amount': 72.41, 'rate': '19 %', 'type': 'VAT'}],\n",
      " 'invoice_details': {'customer_number': '12345',\n",
      "                     'gross_amount': 453.53,\n",
      "                     'invoice_date': '1. März 2024',\n",
      "                     'invoice_number': '123100401',\n",
      "                     'invoice_period': {'end_date': '29.02.2024',\n",
      "                                        'start_date': '01.02.2024'},\n",
      "                     'service': 'WMACCESS Internet',\n",
      "                     'service_descriptions': {'wmGuide': 0, 'wmView': 0},\n",
      "                     'total_amount': 381.12},\n",
      " 'payment_information': {'bank_transfer_type': 'SEPA Credit Transfer',\n",
      "                         'bic': 'GENODE51MIC',\n",
      "                         'iban': 'DE29 1234 5678 9012 3456 78'},\n",
      " 'query_counts': {'G1': 0,\n",
      "                  'G2': 0,\n",
      "                  'G3': 0,\n",
      "                  'G4': 0,\n",
      "                  'G5': 0,\n",
      "                  'G6': 0,\n",
      "                  'T1': 4,\n",
      "                  'T2': 0,\n",
      "                  'T3': 162,\n",
      "                  'T4': 0,\n",
      "                  'T5': 0,\n",
      "                  'T6': 0},\n",
      " 'query_fees': {'G1': 0.3,\n",
      "                'G2': 0.3,\n",
      "                'G3': 0.4,\n",
      "                'G4': 0.4,\n",
      "                'G5': 0.3,\n",
      "                'G6': 0.3,\n",
      "                'T1': 0.58,\n",
      "                'T2': 0.7,\n",
      "                'T3': 1.5,\n",
      "                'T4': 0.5,\n",
      "                'T5': 0.8,\n",
      "                'T6': 1.8},\n",
      " 'query_totals': {'G1': 0,\n",
      "                  'G2': 0,\n",
      "                  'G3': 0,\n",
      "                  'G4': 0,\n",
      "                  'G5': 0,\n",
      "                  'G6': 0,\n",
      "                  'T1': 8.12,\n",
      "                  'T2': 0,\n",
      "                  'T3': 243,\n",
      "                  'T4': 0,\n",
      "                  'T5': 0,\n",
      "                  'T6': 0},\n",
      " 'recipient': {'address': {'city': '12345 Musterstadt',\n",
      "                           'street': 'Musterstr. 23'},\n",
      "               'contact': {'name': 'Mr. John Doe', 'phone': '+49 9371 9786-0'},\n",
      "               'name': 'Musterkunde AG',\n",
      "               'vat_number': 'DE199378386'},\n",
      " 'terms_of_payment': 'Immediate payment without discount. Any bank charges '\n",
      "                     'must be paid by the invoice recipient. Bank fees at our '\n",
      "                     'expense will be charged to the invoice recipient!'}\n"
     ]
    }
   ],
   "source": [
    "# Create a chain to process the contents of the PDF\n",
    "\n",
    "prompt_template = ChatPromptTemplate.from_messages(\n",
    "\t[(\"system\", \"You are going to read the contents of an invoice in PDF format. Return a JSON object that contains the data of the invoice using the fields and values from the text below\"),\n",
    "\t (\"user\", \"{text}\")]\n",
    ")\n",
    "\n",
    "# We will look at \n",
    "from langchain_core.output_parsers import JsonOutputParser\n",
    "\n",
    "chain = pdf_reader | prompt_template | model | JsonOutputParser()\n",
    "\n",
    "invoice = chain.invoke(pdf_path)\n",
    "\n",
    "pprint(invoice)"
   ]
  },
  {
   "cell_type": "code",
   "execution_count": 29,
   "metadata": {},
   "outputs": [
    {
     "data": {
      "text/plain": [
       "dict"
      ]
     },
     "execution_count": 29,
     "metadata": {},
     "output_type": "execute_result"
    }
   ],
   "source": [
    "# See how JSON parser create a python dictionary out of JSON data produced by the LLM\n",
    "type(invoice)"
   ]
  },
  {
   "cell_type": "code",
   "execution_count": null,
   "metadata": {},
   "outputs": [],
   "source": []
  }
 ],
 "metadata": {
  "kernelspec": {
   "display_name": "Python 3",
   "language": "python",
   "name": "python3"
  },
  "language_info": {
   "codemirror_mode": {
    "name": "ipython",
    "version": 3
   },
   "file_extension": ".py",
   "mimetype": "text/x-python",
   "name": "python",
   "nbconvert_exporter": "python",
   "pygments_lexer": "ipython3",
   "version": "3.11.9"
  }
 },
 "nbformat": 4,
 "nbformat_minor": 2
}
