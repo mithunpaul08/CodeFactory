{
 "cells": [
  {
   "cell_type": "code",
   "execution_count": 1,
   "metadata": {},
   "outputs": [
    {
     "name": "stdout",
     "output_type": "stream",
     "text": [
      "Note: you may need to restart the kernel to use updated packages.\n"
     ]
    }
   ],
   "source": [
    "# Install dependencies\n",
    "\n",
    "%pip install -qU langchain langchain-openai"
   ]
  },
  {
   "cell_type": "markdown",
   "metadata": {},
   "source": [
    "Set the environment variables. We need an API key and an LLM server, at minimum."
   ]
  },
  {
   "cell_type": "code",
   "execution_count": 3,
   "metadata": {},
   "outputs": [],
   "source": [
    "import os\n",
    "\n",
    "# We will add the api key as an environment variable. \n",
    "# You can set this value directrly form the shell,\n",
    "# instead of explicitly setting it on code.\n",
    "os.environ[\"OPENAI_API_KEY\"] = \"...\"\n",
    "# We need a custom endpoint, as we will be calling Verde's LLM\n",
    "API_ENDPOINT = \"https://llm1.cyverse.ai/v1\""
   ]
  },
  {
   "cell_type": "markdown",
   "metadata": {},
   "source": [
    "The first step is to create a `Chat` object. This will allow us to call it through langchain and later on using `LCEL`"
   ]
  },
  {
   "cell_type": "code",
   "execution_count": 9,
   "metadata": {},
   "outputs": [
    {
     "name": "stdout",
     "output_type": "stream",
     "text": [
      "AIMessage(content=\" Hello! I am a model of an AI assistant. I'm designed to help answer questions, provide information, and assist with various tasks. How can I help you today?\", additional_kwargs={'refusal': None}, response_metadata={'token_usage': {'completion_tokens': 37, 'prompt_tokens': 9, 'total_tokens': 46}, 'model_name': 'mistralai/Mistral-7B-Instruct-v0.3', 'system_fingerprint': None, 'finish_reason': 'stop', 'logprobs': None}, id='run-6297cefc-1c73-4de9-b059-2aebbedfe2f9-0', usage_metadata={'input_tokens': 9, 'output_tokens': 37, 'total_tokens': 46})\n"
     ]
    }
   ],
   "source": [
    "from langchain_openai import ChatOpenAI \t\t# We use the OpenAI protocol, but are using another provider (Verde)\n",
    "\n",
    "# We will connect to Mistral Instruct v0.3 through Verde\n",
    "# Notice how we need to specify the API endpoint\n",
    "model = ChatOpenAI(model=\"Mistral-7B-Instruct-v0.3\", base_url=API_ENDPOINT)\n",
    "\n",
    "# Do a test call\n",
    "from pprint import pprint\n",
    "response = model.invoke(\"Hello, who are you?\")\n",
    "\n",
    "pprint(response)"
   ]
  },
  {
   "cell_type": "markdown",
   "metadata": {},
   "source": [
    "Chat applications build upon the message history paradigm. There are three types of messages:\n",
    "\n",
    "- System\n",
    "- Human\n",
    "- AI\n",
    "\n",
    "The message history represents the conversation between the LLM and the user. The `System` message is optional. When present, it is usually used to define the _persona_ of the LLM. For example, establishing a role, defining a task, etc.\n",
    "\n",
    "Then, the history is composed of alternating `Human` - `AI` messages."
   ]
  },
  {
   "cell_type": "code",
   "execution_count": 14,
   "metadata": {},
   "outputs": [
    {
     "name": "stdout",
     "output_type": "stream",
     "text": [
      " Mistral is an open-source large language model (LLM) developed by Mistral AI, a French AI company. It is designed to understand and generate human-like text in French and English.\n",
      "\n",
      "You might need to use Mistral if you require a high-quality language model for various natural language processing (NLP) tasks, such as:\n",
      "\n",
      "1. Text generation: Creating coherent and contextually relevant text, such as articles, summaries, or responses to user queries.\n",
      "2. Translation: Translating text from French to English (or vice versa) with high accuracy and fluency.\n",
      "3. Question answering: Answering questions based on a given context or set of documents, providing accurate and concise responses.\n",
      "4. Text summarization: Condensing lengthy documents into summaries that retain the key points and maintain coherence.\n",
      "5. Chatbot development: Building conversational agents that can engage in human-like interactions, providing assistance, information, or entertainment.\n",
      "\n",
      "Compared to other popular LLMs, Mistral has several advantages:\n",
      "\n",
      "1. Multilingual: It is designed to handle both French and English, making it particularly useful for applications that require support for these languages.\n",
      "2. Contextual understanding: Mistral is trained on a large and diverse set of data, allowing it to understand the context and generate responses that are both accurate and relevant.\n",
      "3. Customization: Since it's open-source, you can customize the model to better suit your specific needs, such as fine-tuning it on a specific domain or task.\n",
      "4. Ethical considerations: Mistral AI emphasizes the importance of ethical AI, and the model has been designed with a focus on fairness, accountability, and transparency.\n",
      "\n",
      "Overall, if you are looking for a high-quality language model that can handle French and English, Mistral is an excellent choice, especially for applications that require contextual understanding and customization.\n"
     ]
    }
   ],
   "source": [
    "# Let's build a conversation history\n",
    "\n",
    "from langchain_core.messages import HumanMessage, SystemMessage\n",
    "\n",
    "messages = [\n",
    "    SystemMessage(content=\"You are a software developer, expert in the use of LLMs and langchain. Help the user answering the questions using didactic examples\"),\t\t\t\t\t\t\t\t\t\t# Use the system to establish the task of the LLM\n",
    "    HumanMessage(content=\"What is Mistral and why would I need to use it\"),\t\t# This is the first \"Human\" message\n",
    "]\n",
    "\n",
    "# Instead of invoking with a string, pass the whole message history\n",
    "response = model.invoke(messages)\n",
    "\n",
    "# Add the response to the history\n",
    "messages.append(response)\n",
    "\n",
    "# Let's peek into the response\n",
    "print(response.content)\n"
   ]
  },
  {
   "cell_type": "markdown",
   "metadata": {},
   "source": [
    "Observe how the return value of the LLM model is an `AIMessage` instance. We add that response to the message history, which will be used for a follow up question"
   ]
  },
  {
   "cell_type": "code",
   "execution_count": 15,
   "metadata": {},
   "outputs": [
    {
     "name": "stdout",
     "output_type": "stream",
     "text": [
      "[SystemMessage(content='You are a software developer, expert in the use of LLMs and langchain. Help the user answering the questions using didactic examples'),\n",
      " HumanMessage(content='What is Mistral and why would I need to use it'),\n",
      " AIMessage(content=\" Mistral is an open-source large language model (LLM) developed by Mistral AI, a French AI company. It is designed to understand and generate human-like text in French and English.\\n\\nYou might need to use Mistral if you require a high-quality language model for various natural language processing (NLP) tasks, such as:\\n\\n1. Text generation: Creating coherent and contextually relevant text, such as articles, summaries, or responses to user queries.\\n2. Translation: Translating text from French to English (or vice versa) with high accuracy and fluency.\\n3. Question answering: Answering questions based on a given context or set of documents, providing accurate and concise responses.\\n4. Text summarization: Condensing lengthy documents into summaries that retain the key points and maintain coherence.\\n5. Chatbot development: Building conversational agents that can engage in human-like interactions, providing assistance, information, or entertainment.\\n\\nCompared to other popular LLMs, Mistral has several advantages:\\n\\n1. Multilingual: It is designed to handle both French and English, making it particularly useful for applications that require support for these languages.\\n2. Contextual understanding: Mistral is trained on a large and diverse set of data, allowing it to understand the context and generate responses that are both accurate and relevant.\\n3. Customization: Since it's open-source, you can customize the model to better suit your specific needs, such as fine-tuning it on a specific domain or task.\\n4. Ethical considerations: Mistral AI emphasizes the importance of ethical AI, and the model has been designed with a focus on fairness, accountability, and transparency.\\n\\nOverall, if you are looking for a high-quality language model that can handle French and English, Mistral is an excellent choice, especially for applications that require contextual understanding and customization.\", additional_kwargs={'refusal': None}, response_metadata={'token_usage': {'completion_tokens': 417, 'prompt_tokens': 44, 'total_tokens': 461}, 'model_name': 'mistralai/Mistral-7B-Instruct-v0.3', 'system_fingerprint': None, 'finish_reason': 'stop', 'logprobs': None}, id='run-729c74a9-f56c-47ba-a10f-614b4f722739-0', usage_metadata={'input_tokens': 44, 'output_tokens': 417, 'total_tokens': 461})]\n"
     ]
    }
   ],
   "source": [
    "pprint(messages)"
   ]
  },
  {
   "cell_type": "markdown",
   "metadata": {},
   "source": [
    "Now, let's use a follow up query that relies on the coneversation history."
   ]
  },
  {
   "cell_type": "code",
   "execution_count": 16,
   "metadata": {},
   "outputs": [
    {
     "name": "stdout",
     "output_type": "stream",
     "text": [
      " To provide a simple example of using Mistral in Python, first, you'll need to install the Mistral AI SDK. You can find the installation instructions here: https://github.com/mistralai/mistral-sdk-python\n",
      "\n",
      "Assuming you have the SDK installed, here's a short example of a Python script that uses the Mistral model for generating text:\n",
      "\n",
      "```python\n",
      "from mistral.applications.text_generation import TextGenerationApplication\n",
      "\n",
      "# Initialize the TextGenerationApplication with the Mistral model\n",
      "app = TextGenerationApplication()\n",
      "\n",
      "# Set the input prompt\n",
      "prompt = \"What should I do if I have too much garbage at home?\"\n",
      "\n",
      "# Generate text based on the prompt\n",
      "response = app.predict(prompt=prompt, max_tokens=64)\n",
      "\n",
      "# Print the generated text\n",
      "print(response)\n",
      "```\n",
      "\n",
      "In this example, we're using the TextGenerationApplication from the Mistral SDK to generate a response to a user question. The `prompt` variable contains the question, and the `max_tokens` parameter specifies the maximum number of tokens (words) to generate in the response.\n",
      "\n",
      "When you run this script, it will call the Mistral model to generate a response based on the provided prompt. The generated text will then be printed to the console.\n",
      "\n",
      "For more advanced usage, such as fine-tuning the model or handling multiple languages, you can refer to the Mistral AI documentation and examples available at https://docs.mistral.ai/en/latest/\n"
     ]
    }
   ],
   "source": [
    "messages.append(HumanMessage(\"Give me a short example of a python script that calls the aforementioned LLM\"))\n",
    "\n",
    "response = model.invoke(messages)\n",
    "messages.append(response)\n",
    "\n",
    "print(response.content)"
   ]
  },
  {
   "cell_type": "markdown",
   "metadata": {},
   "source": [
    "Notice how we didn't explicity refered to Mistral, instead it was picked up from the message history."
   ]
  },
  {
   "cell_type": "markdown",
   "metadata": {},
   "source": [
    "Writting messages can get really tedious. We make use of message templates to simplify tasks by parameterizing the values.\n",
    "\n",
    "We will use a template to create a document summarizer built on top of the LLM"
   ]
  },
  {
   "cell_type": "code",
   "execution_count": 23,
   "metadata": {},
   "outputs": [
    {
     "name": "stdout",
     "output_type": "stream",
     "text": [
      "ChatPromptValue(messages=[SystemMessage(content='Summarize the document provided by the user into a succint, at most three-sentence statement'), HumanMessage(content='\\nThe Congress shall have Power To lay and collect Taxes, Duties, Imposts and Excises, to pay the Debts and provide for the common Defence and general Welfare of the United States; but all Duties, Imposts and Excises shall be uniform throughout the United States;\\nTo borrow Money on the credit of the United States;\\nTo regulate Commerce with foreign Nations, and among the several States, and with the Indian Tribes;\\nTo establish an uniform Rule of Naturalization, and uniform Laws on the subject of Bankruptcies throughout the United States;\\nTo coin Money, regulate the Value thereof, and of foreign Coin, and fix the Standard of Weights and Measures;\\nTo provide for the Punishment of counterfeiting the Securities and current Coin of the United States;\\nTo establish Post Offices and post Roads;\\nTo promote the Progress of Science and useful Arts, by securing for limited Times to Authors and Inventors the exclusive Right to their respective Writings and Discoveries;\\nTo constitute Tribunals inferior to the supreme Court;\\nTo define and punish Piracies and Felonies committed on the high Seas, and Offences against the Law of Nations;\\nTo declare War, grant Letters of Marque and Reprisal, and make Rules concerning Captures on Land and Water;\\nTo raise and support Armies, but no Appropriation of Money to that Use shall be for a longer Term than two Years;\\nTo provide and maintain a Navy;\\nTo make Rules for the Government and Regulation of the land and naval Forces;\\nTo provide for calling forth the Militia to execute the Laws of the Union, suppress Insurrections and repel Invasions;\\nTo provide for organizing, arming, and disciplining, the Militia, and for governing such Part of them as may be employed in the Service of the United States, reserving to the States respectively, the Appointment of the Officers, and the Authority of training the Militia according to the discipline prescribed by Congress;\\nTo exercise exclusive Legislation in all Cases whatsoever, over such District (not exceeding ten Miles square) as may, by Cession of particular States, and the Acceptance of Congress, become the Seat of the Government of the United States, and to exercise like Authority over all Places purchased by the Consent of the Legislature of the State in which the Same shall be, for the Erection of Forts, Magazines, Arsenals, dock-Yards, and other needful Buildings;—And\\nTo make all Laws which shall be necessary and proper for carrying into Execution the foregoing Powers, and all other Powers vested by this Constitution in the Government of the United States, or in any Department or Officer thereof.\\n')])\n",
      " The U.S. Constitution grants Congress the power to:\n",
      "1. Tax, borrow, and regulate commerce, both domestically and internationally.\n",
      "2. Establish laws on naturalization, bankruptcy, and intellectual property.\n",
      "3. Regulate currency, coin money, and establish postal services, among other powers necessary for the effective functioning of the federal government.\n"
     ]
    }
   ],
   "source": [
    "# Import the chat template\n",
    "from langchain_core.prompts import ChatPromptTemplate\n",
    "\n",
    "prompt_template = ChatPromptTemplate.from_messages(\n",
    "\t[(\"system\", \"Summarize the document provided by the user into a succint, at most three-sentence statement\"),\n",
    "\t(\"user\", \"{text}\")]\n",
    ")\n",
    "\n",
    "document = \"\"\"\n",
    "The Congress shall have Power To lay and collect Taxes, Duties, Imposts and Excises, to pay the Debts and provide for the common Defence and general Welfare of the United States; but all Duties, Imposts and Excises shall be uniform throughout the United States;\n",
    "To borrow Money on the credit of the United States;\n",
    "To regulate Commerce with foreign Nations, and among the several States, and with the Indian Tribes;\n",
    "To establish an uniform Rule of Naturalization, and uniform Laws on the subject of Bankruptcies throughout the United States;\n",
    "To coin Money, regulate the Value thereof, and of foreign Coin, and fix the Standard of Weights and Measures;\n",
    "To provide for the Punishment of counterfeiting the Securities and current Coin of the United States;\n",
    "To establish Post Offices and post Roads;\n",
    "To promote the Progress of Science and useful Arts, by securing for limited Times to Authors and Inventors the exclusive Right to their respective Writings and Discoveries;\n",
    "To constitute Tribunals inferior to the supreme Court;\n",
    "To define and punish Piracies and Felonies committed on the high Seas, and Offences against the Law of Nations;\n",
    "To declare War, grant Letters of Marque and Reprisal, and make Rules concerning Captures on Land and Water;\n",
    "To raise and support Armies, but no Appropriation of Money to that Use shall be for a longer Term than two Years;\n",
    "To provide and maintain a Navy;\n",
    "To make Rules for the Government and Regulation of the land and naval Forces;\n",
    "To provide for calling forth the Militia to execute the Laws of the Union, suppress Insurrections and repel Invasions;\n",
    "To provide for organizing, arming, and disciplining, the Militia, and for governing such Part of them as may be employed in the Service of the United States, reserving to the States respectively, the Appointment of the Officers, and the Authority of training the Militia according to the discipline prescribed by Congress;\n",
    "To exercise exclusive Legislation in all Cases whatsoever, over such District (not exceeding ten Miles square) as may, by Cession of particular States, and the Acceptance of Congress, become the Seat of the Government of the United States, and to exercise like Authority over all Places purchased by the Consent of the Legislature of the State in which the Same shall be, for the Erection of Forts, Magazines, Arsenals, dock-Yards, and other needful Buildings;—And\n",
    "To make all Laws which shall be necessary and proper for carrying into Execution the foregoing Powers, and all other Powers vested by this Constitution in the Government of the United States, or in any Department or Officer thereof.\n",
    "\"\"\"\n",
    "\n",
    "prompt = prompt_template.invoke({\"text\": document})\n",
    "pprint(prompt)\n",
    "\n",
    "print(model.invoke(prompt).content)"
   ]
  },
  {
   "cell_type": "code",
   "execution_count": null,
   "metadata": {},
   "outputs": [],
   "source": []
  }
 ],
 "metadata": {
  "kernelspec": {
   "display_name": "Python 3",
   "language": "python",
   "name": "python3"
  },
  "language_info": {
   "codemirror_mode": {
    "name": "ipython",
    "version": 3
   },
   "file_extension": ".py",
   "mimetype": "text/x-python",
   "name": "python",
   "nbconvert_exporter": "python",
   "pygments_lexer": "ipython3",
   "version": "3.11.9"
  }
 },
 "nbformat": 4,
 "nbformat_minor": 2
}
